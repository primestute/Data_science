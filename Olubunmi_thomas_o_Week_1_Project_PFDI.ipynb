{
 "cells": [
  {
   "cell_type": "markdown",
   "id": "a2040e3d-bfb8-40b8-8861-4485db413cf7",
   "metadata": {
    "id": "a2040e3d-bfb8-40b8-8861-4485db413cf7"
   },
   "source": [
    "# Week 1: Clean the Airbnb Dataset (and Deploy It!)\n",
    "\n",
    "Welcome to the first week's project for *Python for Data Science*!\n",
    "\n",
    "This week's lecture and material on CoRise showed you how to effectively use NumPy to clean, read, and process data. Now having looked at the data, you might be thinking to yourself, \"Why were these these latitude and longitude columns included in the dataset for Week 1?\" 🤷 We'll put this data to use in this project, and also get a preview of how you will be expected to make forecasts of your own with this data at the end of this course! For this week's project, we are going to use that location data to make an interactive app. We hope this project gets you excited for what's to come in following weeks 🙌🙌! "
   ]
  },
  {
   "cell_type": "markdown",
   "id": "f86691c8-d0b3-4c58-bd5b-dcfe1c2b5ff2",
   "metadata": {
    "id": "f86691c8-d0b3-4c58-bd5b-dcfe1c2b5ff2"
   },
   "source": [
    "## Downloading the Dataset\n",
    "\n",
    "You will need to download some prerequisite packages in order to run all the code below. Let's install them!"
   ]
  },
  {
   "cell_type": "code",
   "execution_count": 3,
   "id": "J3MB5-_L32bV",
   "metadata": {
    "id": "J3MB5-_L32bV"
   },
   "outputs": [],
   "source": [
    "%%capture\n",
    "!pip install numpy pandas streamlit gdown currencyconverter"
   ]
  },
  {
   "cell_type": "code",
   "execution_count": 4,
   "id": "TCoESZJw7Xfs",
   "metadata": {
    "id": "TCoESZJw7Xfs"
   },
   "outputs": [],
   "source": [
    "import numpy as np\n",
    "\n",
    "# For readability purposes, we will disable scientific notation for numbers\n",
    "np.set_printoptions(suppress=True)"
   ]
  },
  {
   "cell_type": "markdown",
   "id": "jKJRJSiM8pWW",
   "metadata": {
    "id": "jKJRJSiM8pWW"
   },
   "source": [
    "Taking a look at the `import` statements below shows that we are using a mix of Python out-of-the-box 🎁 libraries (os, shutil, gzip) alongside some custom ones (gdown, numpy). Gdown allows us to download files from Google Drive, which is where we saved our modified dataset. Gzip helps us unzip downloaded files. Shutil copies the downloaded files in the right location, and we'll use os to delete unneeded files."
   ]
  },
  {
   "cell_type": "code",
   "execution_count": 5,
   "id": "73934f9d-54f0-4c72-9bb3-7bfdb11419f2",
   "metadata": {
    "colab": {
     "base_uri": "https://localhost:8080/",
     "height": 107
    },
    "id": "73934f9d-54f0-4c72-9bb3-7bfdb11419f2",
    "outputId": "546b9095-13f9-49e7-cb85-ee078adb6f81"
   },
   "outputs": [
    {
     "name": "stderr",
     "output_type": "stream",
     "text": [
      "Downloading...\n",
      "From: https://drive.google.com/uc?id=13fyESiH1ZEnMV6eabAyhe20t4W6peEWK\n",
      "To: C:\\Users\\HP\\Desktop\\PFD\\WK1_Airbnb_Amsterdam_listings_proj.csv\n",
      "100%|████████████████████████████████████████████████████████████████████████████████| 246k/246k [00:01<00:00, 194kB/s]\n"
     ]
    },
    {
     "data": {
      "text/plain": [
       "'WK1_Airbnb_Amsterdam_listings_proj.csv'"
      ]
     },
     "execution_count": 5,
     "metadata": {},
     "output_type": "execute_result"
    }
   ],
   "source": [
    "import os\n",
    "import shutil\n",
    "\n",
    "import gdown\n",
    "from numpy import genfromtxt\n",
    "\n",
    "# Download file from Google Drive\n",
    "# This file is based on data from: http://insideairbnb.com/get-the-data/\n",
    "file_id_1 = \"13fyESiH1ZEnMV6eabAyhe20t4W6peEWK\"\n",
    "downloaded_file_1 = \"WK1_Airbnb_Amsterdam_listings_proj.csv\"\n",
    "\n",
    "# Download the file from Google Drive\n",
    "gdown.download(id=file_id_1, output=downloaded_file_1)"
   ]
  },
  {
   "cell_type": "markdown",
   "id": "f4f4a85f-ad1a-46c0-8978-a049fa91dd72",
   "metadata": {
    "id": "f4f4a85f-ad1a-46c0-8978-a049fa91dd72"
   },
   "source": [
    "## Preprocessing the Dataset\n",
    "Getting this particular dataset loaded is a tad bit different from what we learned in this week's content. This time we only have 1 CSV file, so we do not need to merge it. So because there is no need to merge we can move right into data preprocessing!"
   ]
  },
  {
   "cell_type": "markdown",
   "id": "5b75635e-469f-45ef-bf57-2bd22c03e7e7",
   "metadata": {
    "id": "5b75635e-469f-45ef-bf57-2bd22c03e7e7"
   },
   "source": [
    "#### Task 1: Find your delimiter\n",
    "Inspect the csv file we just downloaded and look at the type of delimiter it has. Once you've found the right delimiter, use the dtype \"unicode\". "
   ]
  },
  {
   "cell_type": "code",
   "execution_count": 6,
   "id": "887bc0b0-3a61-4cf4-a534-d9dee0f639b8",
   "metadata": {
    "id": "887bc0b0-3a61-4cf4-a534-d9dee0f639b8"
   },
   "outputs": [],
   "source": [
    "from numpy import genfromtxt\n",
    "\n",
    "my_data = genfromtxt(downloaded_file_1, delimiter=\"|\", dtype=\"unicode\")"
   ]
  },
  {
   "cell_type": "markdown",
   "id": "XM90mSYSgkoI",
   "metadata": {
    "id": "XM90mSYSgkoI"
   },
   "source": [
    "Next, output the first four columns for inspection to see if you've got the data formatted how you'd like."
   ]
  },
  {
   "cell_type": "code",
   "execution_count": 7,
   "id": "IVG_WkJzg0KC",
   "metadata": {
    "colab": {
     "base_uri": "https://localhost:8080/"
    },
    "id": "IVG_WkJzg0KC",
    "outputId": "a699a8fb-7683-4b41-fc08-5df6804f434e"
   },
   "outputs": [
    {
     "data": {
      "text/plain": [
       "array([['', '0', '1', '2'],\n",
       "       ['id', '23726706', '35815036', '31553121'],\n",
       "       ['price', '$88.00', '$105.00', '$152.00'],\n",
       "       ['latitude', '52.34916', '52.42419', '52.43237'],\n",
       "       ['longitude', '4.97879', '4.95689', '4.91821']], dtype='<U18')"
      ]
     },
     "execution_count": 7,
     "metadata": {},
     "output_type": "execute_result"
    }
   ],
   "source": [
    "my_data[:, :4]"
   ]
  },
  {
   "cell_type": "markdown",
   "id": "bJx2m6DnhGiS",
   "metadata": {
    "id": "bJx2m6DnhGiS"
   },
   "source": [
    "Awesome! But notice our data is aligned a little differently than how we saw in the course materials. It's like we shifted our dataset by 90 degrees! You'll have to fix this a little bit later."
   ]
  },
  {
   "cell_type": "markdown",
   "id": "6148c44a-aefe-474c-a5ab-7c7d9aad86c0",
   "metadata": {
    "id": "6148c44a-aefe-474c-a5ab-7c7d9aad86c0"
   },
   "source": [
    "#### Task 2: Clean it up\n",
    "In order for your calculations to run correctly, you need to have only the \"relevant\" numbers/entries present in your dataset. This means no headers, footers, redudant IDs, etc. Can you remove the first row and column, since you won't be needing them? Verify your work by again by printing out the first four columns."
   ]
  },
  {
   "cell_type": "code",
   "execution_count": 9,
   "id": "62d32bbd-33e5-4dbe-b448-4f932c2119f2",
   "metadata": {
    "colab": {
     "base_uri": "https://localhost:8080/"
    },
    "id": "62d32bbd-33e5-4dbe-b448-4f932c2119f2",
    "outputId": "4978ebae-9602-48eb-acc4-1976dfbd9fbb"
   },
   "outputs": [
    {
     "data": {
      "text/plain": [
       "array([['23726706', '35815036', '31553121', '34745823'],\n",
       "       ['$88.00', '$105.00', '$152.00', '$87.00'],\n",
       "       ['52.34916', '52.42419', '52.43237', '52.2962'],\n",
       "       ['4.97879', '4.95689', '4.91821', '5.01231']], dtype='<U18')"
      ]
     },
     "execution_count": 9,
     "metadata": {},
     "output_type": "execute_result"
    }
   ],
   "source": [
    "# Remove the first column and row\n",
    "matrix = my_data[1:, 1:]\n",
    "\n",
    "# Print out the first four columns\n",
    "matrix[:, :4]"
   ]
  },
  {
   "cell_type": "markdown",
   "id": "f221f2b8-872b-432b-83da-abe0c74d0e6d",
   "metadata": {
    "id": "f221f2b8-872b-432b-83da-abe0c74d0e6d"
   },
   "source": [
    "#### Task 3: Wide to long\n",
    "As stated previously, our dataset is shifted by 90 degrees. Let's shift it another 90 degrees to get it back to how we'd expect, which is in a much more readable format. Please find in the course material in CoRise the correct operation that you'd need to use to do that. Again, verify your work by printing out of the first five rows."
   ]
  },
  {
   "cell_type": "code",
   "execution_count": 10,
   "id": "b7210723-75ef-48ce-b568-2c2aeebfb013",
   "metadata": {
    "colab": {
     "base_uri": "https://localhost:8080/"
    },
    "id": "b7210723-75ef-48ce-b568-2c2aeebfb013",
    "outputId": "04633618-88fe-4fbc-ac33-4e708e90e793"
   },
   "outputs": [
    {
     "data": {
      "text/plain": [
       "array([['23726706', '$88.00', '52.34916', '4.97879'],\n",
       "       ['35815036', '$105.00', '52.42419', '4.95689'],\n",
       "       ['31553121', '$152.00', '52.43237', '4.91821'],\n",
       "       ['34745823', '$87.00', '52.2962', '5.01231'],\n",
       "       ['44586947', '$160.00', '52.31475', '5.0303']], dtype='<U18')"
      ]
     },
     "execution_count": 10,
     "metadata": {},
     "output_type": "execute_result"
    }
   ],
   "source": [
    "# Shift the matrix by 90 degrees\n",
    "matrix = matrix.T\n",
    "\n",
    "# Print out the first five rows\n",
    "# Entries: airbnb_id, price_usd, latitude, longitude\n",
    "matrix[:5, :]"
   ]
  },
  {
   "cell_type": "markdown",
   "id": "fa562426-e9b0-426a-aa1c-6c4dd8cd76ca",
   "metadata": {
    "id": "fa562426-e9b0-426a-aa1c-6c4dd8cd76ca"
   },
   "source": [
    "Now that all data is loaded properly, let's clean it up a bit like we did before by removing string characters and setting the right type 😁."
   ]
  },
  {
   "cell_type": "markdown",
   "id": "74231480-3ab7-463a-ae18-e7f7cf81764a",
   "metadata": {
    "id": "74231480-3ab7-463a-ae18-e7f7cf81764a"
   },
   "source": [
    "#### Task 4: That character is not appropriate\n",
    "\n",
    "String characters like commas and dollar signs are yet again present in the dataset. Please find in the CoRise course materials the correct operation to filter out these two string characters from the dataset."
   ]
  },
  {
   "cell_type": "code",
   "execution_count": 12,
   "id": "d912e33e-cc33-4e03-9163-7f061bac3711",
   "metadata": {
    "id": "d912e33e-cc33-4e03-9163-7f061bac3711"
   },
   "outputs": [],
   "source": [
    "# Remove the dollar sign\n",
    "matrix = np.char.replace(matrix, \"$\", \"\")\n",
    "\n",
    "# Remove the comma\n",
    "matrix = np.char.replace(matrix, \",\", \"\")"
   ]
  },
  {
   "cell_type": "markdown",
   "id": "59P9Vhe-kH06",
   "metadata": {
    "id": "59P9Vhe-kH06"
   },
   "source": [
    "Awesome! Now the dataset contains only numerical values allowing us to perform numerical operations... at least if we set the type right!"
   ]
  },
  {
   "cell_type": "markdown",
   "id": "jf6FdM8pk6BN",
   "metadata": {
    "id": "jf6FdM8pk6BN"
   },
   "source": [
    "#### Task 5: Verification is the key to success!\n",
    "Let's verify our matrix to confirm there are no more string characters present. Check to see if a dollar sign or comma still appears anywhere in the matrix. \n"
   ]
  },
  {
   "cell_type": "code",
   "execution_count": 13,
   "id": "zuicHsxMohnz",
   "metadata": {
    "colab": {
     "base_uri": "https://localhost:8080/"
    },
    "id": "zuicHsxMohnz",
    "outputId": "83e27580-de85-4ef0-db99-95ee0ceba05b"
   },
   "outputs": [
    {
     "data": {
      "text/plain": [
       "array([], dtype='<U18')"
      ]
     },
     "execution_count": 13,
     "metadata": {},
     "output_type": "execute_result"
    }
   ],
   "source": [
    "# Check if the dollar sign is in our dataset\n",
    "matrix[np.char.find(matrix, \"$\") > -1]"
   ]
  },
  {
   "cell_type": "code",
   "execution_count": 14,
   "id": "bcb9b865",
   "metadata": {},
   "outputs": [
    {
     "data": {
      "text/plain": [
       "array([], dtype='<U18')"
      ]
     },
     "execution_count": 14,
     "metadata": {},
     "output_type": "execute_result"
    }
   ],
   "source": [
    "# Check if the comma is in our dataset\n",
    "matrix[np.char.find(matrix, \",\") > -1]"
   ]
  },
  {
   "cell_type": "code",
   "execution_count": 15,
   "id": "c78d95bf-bf7c-4342-9004-1f80616598ff",
   "metadata": {
    "colab": {
     "base_uri": "https://localhost:8080/"
    },
    "id": "c78d95bf-bf7c-4342-9004-1f80616598ff",
    "outputId": "31e3446f-6d7e-4ca0-95a8-a49959433aea"
   },
   "outputs": [
    {
     "data": {
      "text/plain": [
       "array([[23726706.     ,       88.     ,       52.34916,        4.97879],\n",
       "       [35815036.     ,      105.     ,       52.42419,        4.95689],\n",
       "       [31553120.     ,      152.     ,       52.43237,        4.91821],\n",
       "       [34745824.     ,       87.     ,       52.2962 ,        5.01231],\n",
       "       [44586948.     ,      160.     ,       52.31475,        5.0303 ]],\n",
       "      dtype=float32)"
      ]
     },
     "execution_count": 15,
     "metadata": {},
     "output_type": "execute_result"
    }
   ],
   "source": [
    "# Change Unicode to float32\n",
    "matrix = matrix.astype(np.float32)\n",
    "\n",
    "# Print out the first five rows (and inspect the dtype for correctness)\n",
    "# Entries: airbnb_id, price_usd, latitude, longitude\n",
    "matrix[:5,:]"
   ]
  },
  {
   "cell_type": "markdown",
   "id": "cKa6XKbNkmfF",
   "metadata": {
    "id": "cKa6XKbNkmfF"
   },
   "source": [
    "<details>\n",
    "  <summary>Show Expected Output</summary>\n",
    "\n",
    "  \n",
    "```\n",
    "array([[23726706.     ,       88.     ,       52.34916,        4.97879],\n",
    "       [35815036.     ,      105.     ,       52.42419,        4.95689],\n",
    "       [31553120.     ,      152.     ,       52.43237,        4.91821],\n",
    "       [34745824.     ,       87.     ,       52.2962 ,        5.01231],\n",
    "       [44586948.     ,      160.     ,       52.31475,        5.0303 ]],\n",
    "      dtype=float32)\n",
    "```\n",
    "\n",
    "<details>\n",
    "<summary>Show Solution</summary>\n",
    "\n",
    "```python\n",
    "# Change unicode to float32\n",
    "matrix = matrix.astype(np.float32)\n",
    "\n",
    "# Print out the first five rows (and inspect the dtype for correctness)\n",
    "matrix[:5, :]\n",
    "```\n",
    "\n",
    "</details>\n",
    "</details>"
   ]
  },
  {
   "cell_type": "markdown",
   "id": "16249349-8d37-4d24-b0c4-8a416aeda7ea",
   "metadata": {
    "id": "16249349-8d37-4d24-b0c4-8a416aeda7ea"
   },
   "source": [
    "## The Price Is Right\n",
    "\n",
    "<center>\n",
    "  <img src=https://wwwimage-tve.cbsstatic.com/thumbnails/photos/w400-q80/blog/tpir-logo-promo_0_0.jpg width=\"500\" align=\"center\" />\n",
    "</center>\n",
    "<br/>\n",
    "\n",
    "Since all our values in the matrix are now recognized as numbers, we can perform some awesome calcultions! \n",
    "\n",
    "Our next objective is to change the currency from US dollars to another currency. This can be any currency you like, except for the US dollar. Let's first import the library that helps us to make these conversions. Then let's have another look at the first 5 rows of our matrix."
   ]
  },
  {
   "cell_type": "code",
   "execution_count": 16,
   "id": "93e4e8b3-6f19-4e31-a324-2bd94dc461a2",
   "metadata": {
    "id": "93e4e8b3-6f19-4e31-a324-2bd94dc461a2"
   },
   "outputs": [],
   "source": [
    "from currency_converter import CurrencyConverter\n",
    "\n",
    "cc = CurrencyConverter()\n",
    "\n",
    "# Entries: airbnb_id, price_usd, latitude, longitude\n",
    "for c in matrix[:, 1]:\n",
    "    cc.convert(c, \"USD\", \"EUR\")"
   ]
  },
  {
   "cell_type": "markdown",
   "id": "yu69KkfA9kMl",
   "metadata": {
    "id": "yu69KkfA9kMl"
   },
   "source": [
    "The currency conversion calculations you'll be performing should be applied to the second column. \n",
    "\n",
    "As a reminder, you should use the number \"1\" which represents the second column of the matrix, since indexes start at the number zero.\n",
    "\n",
    "Please only output the second column below:"
   ]
  },
  {
   "cell_type": "code",
   "execution_count": 17,
   "id": "cf6d4cdd-ae46-4be5-9204-537f45d9b4f4",
   "metadata": {
    "colab": {
     "base_uri": "https://localhost:8080/"
    },
    "id": "cf6d4cdd-ae46-4be5-9204-537f45d9b4f4",
    "outputId": "308ba181-f029-4d9d-dd04-37a89ca4bb46"
   },
   "outputs": [
    {
     "data": {
      "text/plain": [
       "array([ 88., 105., 152., ..., 180., 174.,  65.], dtype=float32)"
      ]
     },
     "execution_count": 17,
     "metadata": {},
     "output_type": "execute_result"
    }
   ],
   "source": [
    "matrix[:,1]"
   ]
  },
  {
   "cell_type": "markdown",
   "id": "MuUQATyL-CNj",
   "metadata": {
    "id": "MuUQATyL-CNj"
   },
   "source": [
    "#### Task 7: Pick any currency\n",
    "\n",
    "The tool you'll be using has a total of 42 currencies. Please select one of them, and use it to convert the dollars into your chosen currency. You can check which are available by running:"
   ]
  },
  {
   "cell_type": "code",
   "execution_count": null,
   "id": "KhehQKENWBLm",
   "metadata": {
    "id": "KhehQKENWBLm"
   },
   "outputs": [],
   "source": [
    "cc.currencies"
   ]
  },
  {
   "cell_type": "markdown",
   "id": "cj7Y4mPPWBUY",
   "metadata": {
    "id": "cj7Y4mPPWBUY"
   },
   "source": [
    "A suggestion for those who don't know which to choose: Feel free to use GBP."
   ]
  },
  {
   "cell_type": "code",
   "execution_count": 18,
   "id": "3b1b9df8-6b29-41a8-8bce-1a51bb710ec9",
   "metadata": {
    "id": "3b1b9df8-6b29-41a8-8bce-1a51bb710ec9"
   },
   "outputs": [],
   "source": [
    "# Get the rate of conversaton from the US dollar to your currency of choice\n",
    "eur_rate = cc.convert(1, \"USD\", \"EUR\") # Euro\n",
    "\n",
    "# Multiply the dollar column by your currency of choice\n",
    "matrix[:, 1] = matrix[:, 1] * eur_rate"
   ]
  },
  {
   "cell_type": "markdown",
   "id": "440efa8a-3c39-4615-a65a-e8ba956d6a9f",
   "metadata": {
    "id": "440efa8a-3c39-4615-a65a-e8ba956d6a9f"
   },
   "source": [
    "#### Task 8: Inflation!\n",
    "\n",
    "Recent inflation all around the world has caused many companies to raise their prices. Consequently, Airbnb listings have also raised their prices by a certain amount. Find the 2022 annual inflation rate for your currency of choice. If you can't find the inflation rate online, use 7% as value. Apply this inflation rate to our newly updated prices."
   ]
  },
  {
   "cell_type": "code",
   "execution_count": 19,
   "id": "b9b77c45-ad45-424d-a826-91cc86712df6",
   "metadata": {
    "id": "b9b77c45-ad45-424d-a826-91cc86712df6"
   },
   "outputs": [],
   "source": [
    "# Multiply the dollar column by the inflation percentage (1.00 + inflation)\n",
    "matrix[:, 1]  = matrix[:, 1] * 1.07"
   ]
  },
  {
   "cell_type": "markdown",
   "id": "3580b8ee-594a-4a79-8207-df656f23450c",
   "metadata": {
    "id": "3580b8ee-594a-4a79-8207-df656f23450c"
   },
   "source": [
    "#### Task 9: Too many decimals!\n",
    "\n",
    "You might have some prices longer than two decimals after changing the currency and adjusting the price for inflation. Please round the prices **down** to the nearest two decimals using a NumPy native function. [Here's a hint.](https://numpy.org/doc/stable/reference/generated/numpy.around.html)"
   ]
  },
  {
   "cell_type": "code",
   "execution_count": 21,
   "id": "4f62b24b-fb75-406d-92f0-033e1afec123",
   "metadata": {
    "colab": {
     "base_uri": "https://localhost:8080/"
    },
    "id": "4f62b24b-fb75-406d-92f0-033e1afec123",
    "outputId": "d83c61de-10db-4284-c09e-5b8acaae4525"
   },
   "outputs": [
    {
     "data": {
      "text/plain": [
       "array([ 87.07, 103.89, 150.4 , ..., 178.1 , 172.17,  64.31], dtype=float32)"
      ]
     },
     "execution_count": 21,
     "metadata": {},
     "output_type": "execute_result"
    }
   ],
   "source": [
    "# Round down the new currency column to 2 decimals\n",
    "matrix[:, 1]  = np.around(matrix[:, 1], decimals=2)\n",
    "matrix[:, 1]"
   ]
  },
  {
   "cell_type": "markdown",
   "id": "6ec2a91e-8252-4fd2-86b0-919adb15b6d0",
   "metadata": {
    "id": "6ec2a91e-8252-4fd2-86b0-919adb15b6d0"
   },
   "source": [
    "## Where u (want to be) at?\n",
    "\n",
    "\n",
    "<center>\n",
    "  <img src=https://media.timeout.com/images/105504583/750/422/image.jpg width=\"500\" align=\"center\" />\n",
    "</center>\n",
    "<br/>\n",
    "\n",
    "Amsterdam is a city with a long history and a rich international culture, so there is always [something interesting to see and do](https://www.iamsterdam.com/en/see-and-do/things-to-do/top-20-things-to-do-in-amsterdam). What if you were to visit Amsterdam? You'd probably want to have your Airbnb close to your favorite spot!"
   ]
  },
  {
   "cell_type": "markdown",
   "id": "08eb3f54-9af1-483a-b6ac-354d6c77d77e",
   "metadata": {
    "id": "08eb3f54-9af1-483a-b6ac-354d6c77d77e"
   },
   "source": [
    "#### Task 10: Choose your location\n",
    "\n",
    "Look up a place you'd like to visit in Amsterdam's city center, along with its longitude and latitude. We want to save this for choosing an Airbnb listing to our liking. You can get coordinates from [Google](https://www.google.com/) by searching like so:\n",
    "\n",
    "<center>\n",
    "  <img src=https://i.ibb.co/XXdkH3z/Screen-Shot-2022-10-24-at-2-42-54-PM.png width=\"500\" align=\"center\" />\n",
    "</center>\n",
    "<br/>\n",
    "\n",
    "\n"
   ]
  },
  {
   "cell_type": "code",
   "execution_count": 22,
   "id": "61014b50-cceb-4f75-9d4f-639c197eec52",
   "metadata": {
    "id": "61014b50-cceb-4f75-9d4f-639c197eec52"
   },
   "outputs": [],
   "source": [
    "# Favorite location\n",
    "latitude = 52.3600\n",
    "longitude = 4.8852"
   ]
  },
  {
   "cell_type": "markdown",
   "id": "4caaddc7-403f-4ed1-8593-2d1085bff3f7",
   "metadata": {
    "id": "4caaddc7-403f-4ed1-8593-2d1085bff3f7"
   },
   "source": [
    "## Listing All Listings\n",
    "\n",
    "<center>\n",
    "  <img src=https://images0.persgroep.net/rcs/vnd5KBhggcKV72YJjpLWH_-xljU/diocontent/131036963/_crop/34/170/1378/778/_fitwidth/763?appId=93a17a8fd81db0de025c8abd1cca1279&quality=0.8&desiredformat=webp width=\"500\" align=\"center\" />\n",
    "</center>\n",
    "<br/>\n",
    "\n",
    "Imagine Airbnb Amsterdam decided to deviate from Airbnb Global and provide a feature on their website that showed the best listings for you based on the locations you were planning to visit. Wouldn't it make sense to choose a place to stay in a location closest to where you're likely to go most often?\n",
    "\n",
    "So this is the most exciting part: You're going to calculate just that! You will limit your results to your favorite location in Amsterdam (as chosen above) and the surrounding available Airbnb listings using math and NumPy!\n",
    "\n",
    "We've already provided you with the math calculations down below. Please make sure to run that method!\n",
    "\n",
    "You'll have to use this method in a `for` loop or by using [`np.vectorize`](https://numpy.org/doc/stable/reference/generated/numpy.vectorize.html) as was shown on CoRise. "
   ]
  },
  {
   "cell_type": "code",
   "execution_count": 24,
   "id": "b8911e6f-321f-4d93-9e8a-feb558fb2502",
   "metadata": {
    "id": "b8911e6f-321f-4d93-9e8a-feb558fb2502"
   },
   "outputs": [],
   "source": [
    "import math\n",
    "\n",
    "def from_location_to_airbnb_listing_in_meters(lat1: float, lon1: float, lat2: list, lon2: list):\n",
    "    # Source: https://community.esri.com/t5/coordinate-reference-systems-blog\n",
    "    # /distance-on-a-sphere-the-haversine-formula/ba-p/902128\n",
    "    \n",
    "    R = 6371000  # Radius of Earth in meters\n",
    "    phi_1 = math.radians(lat1)\n",
    "    phi_2 = math.radians(lat2)\n",
    "\n",
    "    delta_phi = math.radians(lat2 - lat1)\n",
    "    delta_lambda = math.radians(lon2 - lon1)\n",
    "\n",
    "    a = (\n",
    "        math.sin(delta_phi / 2.0) ** 2\n",
    "        + math.cos(phi_1) * math.cos(phi_2) * math.sin(delta_lambda / 2.0) ** 2\n",
    "    )\n",
    "\n",
    "    c = 2 * math.atan2(math.sqrt(a), math.sqrt(1 - a))\n",
    "\n",
    "    meters = R * c  # Output distance in meters\n",
    "\n",
    "    return np.round(meters, 0)"
   ]
  },
  {
   "cell_type": "markdown",
   "id": "1d059854-9eba-4c1e-bfbd-3aea2f3017ad",
   "metadata": {
    "id": "1d059854-9eba-4c1e-bfbd-3aea2f3017ad"
   },
   "source": [
    "#### Task 11: Loop or vectorize!\n",
    "\n",
    "Please implement a `for` loop (or vectorize) the `from_location_to_airbnb_listing_in_meters` function. ***For now just calculate these numbers. Don't add it as a new column to your matrix.***"
   ]
  },
  {
   "cell_type": "code",
   "execution_count": 25,
   "id": "997ec8fa-5cc1-4fd3-ae01-fd53e0ffc0d6",
   "metadata": {
    "colab": {
     "base_uri": "https://localhost:8080/"
    },
    "id": "997ec8fa-5cc1-4fd3-ae01-fd53e0ffc0d6",
    "outputId": "cb8f30bf-f743-4d73-9506-8a3b10a9a55d"
   },
   "outputs": [
    {
     "data": {
      "text/plain": [
       "array([6469., 8638., 8353., ..., 7457., 4680., 5415.])"
      ]
     },
     "execution_count": 25,
     "metadata": {},
     "output_type": "execute_result"
    }
   ],
   "source": [
    "# Create a loop or vectorized way to calculate the distance,\n",
    "# going over all latitude and longitude entries in the dataset\n",
    "\n",
    "conv_to_meters = np.vectorize(from_location_to_airbnb_listing_in_meters)\n",
    "conv_to_meters(latitude, longitude, matrix[:, 2], matrix[:, 3])"
   ]
  },
  {
   "cell_type": "markdown",
   "id": "8zEIgsAkryQX",
   "metadata": {
    "id": "8zEIgsAkryQX"
   },
   "source": [
    "<details>\n",
    "<summary>Show Solution</summary>\n",
    "\n",
    "```python\n",
    "# Allow a Python-function to be used in a (semi-)vectorized way.\n",
    "conv_to_meters = np.vectorize(from_location_to_airbnb_listing_in_meters)\n",
    "\n",
    "# Apply the function\n",
    "conv_to_meters(latitude, longitude, matrix[:, 2], matrix[:, 3])\n",
    "```\n",
    "\n",
    "</details>"
   ]
  },
  {
   "cell_type": "markdown",
   "id": "_JmXLcq4C7EB",
   "metadata": {
    "id": "_JmXLcq4C7EB"
   },
   "source": [
    "Now let's use the `timeit` function to see how quickly the code is ran!"
   ]
  },
  {
   "cell_type": "code",
   "execution_count": 26,
   "id": "m1oqM9C2D4sJ",
   "metadata": {
    "colab": {
     "base_uri": "https://localhost:8080/"
    },
    "id": "m1oqM9C2D4sJ",
    "outputId": "6d4561dd-c769-4861-9e84-1b7bd5d2e952"
   },
   "outputs": [
    {
     "name": "stdout",
     "output_type": "stream",
     "text": [
      "83.5 ms ± 1.15 ms per loop (mean ± std. dev. of 4 runs, 100 loops each)\n"
     ]
    }
   ],
   "source": [
    "%%timeit -r 4 -n 100\n",
    "\n",
    "# Allow a Python function to be used in a (semi-)vectorized way\n",
    "conv_to_meters = np.vectorize(from_location_to_airbnb_listing_in_meters)\n",
    "\n",
    "# Apply the function, use timeit\n",
    "conv_to_meters(latitude, longitude, matrix[:, 2], matrix[:, 3])"
   ]
  },
  {
   "cell_type": "markdown",
   "id": "080e07c8-2e37-4a46-89f0-6b73048697e5",
   "metadata": {
    "id": "080e07c8-2e37-4a46-89f0-6b73048697e5"
   },
   "source": [
    "## Can We Do It Faster?\n",
    "\n",
    "Now you might be thinking to yourself, *can we do this faster*? \n",
    "\n",
    "The answer is ***YES***! \n",
    "\n",
    "But please remember that optimization is always a trade-off between the need for speed and the need for delivery of your results!"
   ]
  },
  {
   "cell_type": "markdown",
   "id": "bab0fd01-6c42-46eb-b68a-28e66d63c2c6",
   "metadata": {
    "id": "bab0fd01-6c42-46eb-b68a-28e66d63c2c6"
   },
   "source": [
    "---\n",
    "\n",
    "#### (Extra Credit)  Task 12: NumPy all the way!\n",
    "\n",
    "Now convert the `from_location_to_airbnb_listing_in_meters` function into a pure NumPy function. You can do this by changing all the imported math functions into their NumPy variant. ***For now just calculate these numbers. Don't add it as a new column to your matrix.***"
   ]
  },
  {
   "cell_type": "code",
   "execution_count": 27,
   "id": "b5a1712a-1b01-40c8-8d21-706001b22910",
   "metadata": {
    "id": "b5a1712a-1b01-40c8-8d21-706001b22910"
   },
   "outputs": [],
   "source": [
    "def from_location_to_airbnb_listing_in_meters(\n",
    "    lat1: float, lon1: float, lat2: np.ndarray, lon2: np.ndarray\n",
    "):\n",
    "    R = 6371000  # radius of Earth in meters\n",
    "    phi_1 = np.radians(lat1)\n",
    "    phi_2 = np.radians(lat2)\n",
    "\n",
    "    delta_phi = np.radians(lat2 - lat1)\n",
    "    delta_lambda = np.radians(lon2 - lon1)\n",
    "\n",
    "    a = (\n",
    "        np.sin(delta_phi / 2.0) ** 2\n",
    "        + np.cos(phi_1) * np.cos(phi_2) * np.sin(delta_lambda / 2.0) ** 2\n",
    "    )\n",
    "\n",
    "    c = 2 * np.arctan2(np.sqrt(a), np.sqrt(1 - a))\n",
    "\n",
    "    meters = R * c  # output distance in meters\n",
    "\n",
    "    return np.round(meters, 0)"
   ]
  },
  {
   "cell_type": "markdown",
   "id": "7G3KvDaeF9YD",
   "metadata": {
    "id": "7G3KvDaeF9YD"
   },
   "source": [
    "#### (Extra Credit) Task 13: How much faster is it?\n",
    "Use the `timeit` function so we can compare it to the outcome of the prior task. This should be very similar to the `timeit`-code that was used below Task 11."
   ]
  },
  {
   "cell_type": "code",
   "execution_count": 28,
   "id": "xJjqvkBGGMT4",
   "metadata": {
    "id": "xJjqvkBGGMT4"
   },
   "outputs": [
    {
     "name": "stdout",
     "output_type": "stream",
     "text": [
      "938 ns ± 20.3 ns per loop (mean ± std. dev. of 4 runs, 100 loops each)\n"
     ]
    }
   ],
   "source": [
    "%%timeit -r 4 -n 100\n",
    "\n",
    "# Copy the code from Task 12 and add a timeit function above this comment\n",
    "def from_location_to_airbnb_listing_in_meters(\n",
    "    lat1: float, lon1: float, lat2: np.ndarray, lon2: np.ndarray\n",
    "):\n",
    "    R = 6371000  # radius of Earth in meters\n",
    "    phi_1 = np.radians(lat1)\n",
    "    phi_2 = np.radians(lat2)\n",
    "\n",
    "    delta_phi = np.radians(lat2 - lat1)\n",
    "    delta_lambda = np.radians(lon2 - lon1)\n",
    "\n",
    "    a = (\n",
    "        np.sin(delta_phi / 2.0) ** 2\n",
    "        + np.cos(phi_1) * np.cos(phi_2) * np.sin(delta_lambda / 2.0) ** 2\n",
    "    )\n",
    "\n",
    "    c = 2 * np.arctan2(np.sqrt(a), np.sqrt(1 - a))\n",
    "\n",
    "    meters = R * c  # output distance in meters\n",
    "\n",
    "    return np.round(meters, 0)"
   ]
  },
  {
   "cell_type": "code",
   "execution_count": 29,
   "id": "z9lvmqysjpYG",
   "metadata": {
    "colab": {
     "base_uri": "https://localhost:8080/"
    },
    "id": "z9lvmqysjpYG",
    "outputId": "742b685c-f003-4c3f-a6d6-2a015468cc2f"
   },
   "outputs": [
    {
     "name": "stdout",
     "output_type": "stream",
     "text": [
      "537 µs ± 230 µs per loop (mean ± std. dev. of 4 runs, 100 loops each)\n"
     ]
    }
   ],
   "source": [
    "%%timeit -r 4 -n 100\n",
    "\n",
    "from_location_to_airbnb_listing_in_meters(\n",
    "    latitude, longitude, matrix[:, 2], matrix[:, 3]\n",
    ")"
   ]
  },
  {
   "cell_type": "markdown",
   "id": "3Wwjec7vHDK_",
   "metadata": {
    "id": "3Wwjec7vHDK_"
   },
   "source": [
    "WOW! You see a massive speed-up just by switching your functions from default Python functions to their NumPy variants! Awesome!\n",
    "\n",
    "---"
   ]
  },
  {
   "cell_type": "markdown",
   "id": "dc1d3c93-b298-4d7f-9382-5d97efd7d675",
   "metadata": {
    "id": "dc1d3c93-b298-4d7f-9382-5d97efd7d675"
   },
   "source": [
    "## Prep the Dataset for Download!\n",
    "\n",
    "\n",
    "Now that we've created a function to calculate the distance in meters for every Airbnb listing, we'll perform this calculation on the entire dataset and add the outputs to the matrix as a new column.\n",
    "\n",
    "Next to that, we'll add another column that contains only ones and zeros to represent the \"color\" of an entry/row. This column can be used later if you want to turn this dataset into an app using [Streamlit](https://streamlit.io/). This resource is great for when you want to translate your Python projects into an interactive website. More on that in the next section.\n",
    "\n",
    "As you'll see from the code, we'll also add our favorite location as an entry/row. (We've selected the coordinates of the Rijksmuseum. Feel free to change it to your favorite location in Amsterdam). \n",
    "\n",
    "\n"
   ]
  },
  {
   "cell_type": "code",
   "execution_count": 30,
   "id": "587b2c11-6b59-4075-b002-be8516c62b2d",
   "metadata": {
    "id": "587b2c11-6b59-4075-b002-be8516c62b2d"
   },
   "outputs": [],
   "source": [
    "# Run the previous method\n",
    "meters = from_location_to_airbnb_listing_in_meters(\n",
    "    latitude, longitude, matrix[:, 2], matrix[:, 3]\n",
    ")\n",
    "\n",
    "# Add an axis to make concatenation possible\n",
    "meters = meters.reshape(-1, 1)\n",
    "\n",
    "# Append the distance in meters to the matrix\n",
    "matrix = np.concatenate((matrix, meters), axis=1)"
   ]
  },
  {
   "cell_type": "code",
   "execution_count": 31,
   "id": "e60a7c93-fe1c-46d9-9e63-0e8635b0966d",
   "metadata": {
    "colab": {
     "base_uri": "https://localhost:8080/"
    },
    "id": "e60a7c93-fe1c-46d9-9e63-0e8635b0966d",
    "outputId": "a506b016-4949-4d34-d9f6-6ec10b932f33"
   },
   "outputs": [
    {
     "data": {
      "text/plain": [
       "array([[       1.        ,        0.        ,        7.23      ,\n",
       "               3.4387    ,        0.        ,        1.        ],\n",
       "       [23726706.        ,       87.06999969,       52.34915924,\n",
       "               4.97878981,     6469.        ,        0.        ],\n",
       "       [35815036.        ,      103.88999939,       52.42419052,\n",
       "               4.95689011,     8638.        ,        0.        ],\n",
       "       [31553120.        ,      150.3999939 ,       52.43236923,\n",
       "               4.91821003,     8353.        ,        0.        ],\n",
       "       [34745824.        ,       86.08000183,       52.2961998 ,\n",
       "               5.01231003,    11178.        ,        0.        ]])"
      ]
     },
     "execution_count": 31,
     "metadata": {},
     "output_type": "execute_result"
    }
   ],
   "source": [
    "# Append a color to the matrix\n",
    "colors = np.zeros(meters.shape)\n",
    "matrix = np.concatenate((matrix, colors), axis=1)\n",
    "\n",
    "# Append our entry to the matrix\n",
    "fav_entry = np.array([1, 0, 7.2300, 3.4387, 0, 1]).reshape(1, -1) # Change coordinates to your favorite location\n",
    "matrix = np.concatenate((fav_entry, matrix), axis=0)\n",
    "\n",
    "# Entries: airbnb_id, price, latitude, longitude,\n",
    "# meters from favorite point, color\n",
    "matrix[:5, :]"
   ]
  },
  {
   "cell_type": "code",
   "execution_count": 32,
   "id": "2c9f02e3-9af7-4eb0-845d-96748114c5b3",
   "metadata": {
    "id": "2c9f02e3-9af7-4eb0-845d-96748114c5b3"
   },
   "outputs": [],
   "source": [
    "# Export the data to use in the primer for next week\n",
    "np.savetxt(\"WK1_Airbnb_Amsterdam_listings_proj_solution.csv\", matrix, delimiter=\",\")"
   ]
  },
  {
   "cell_type": "markdown",
   "id": "6YaljvSnHlwx",
   "metadata": {
    "id": "6YaljvSnHlwx"
   },
   "source": [
    "Great! By running all the cells above, you've saved the matrix here on your Google Colab instance. Let's now look into how to download the dataset to your local machine."
   ]
  },
  {
   "cell_type": "markdown",
   "id": "C-EkAreK9aH3",
   "metadata": {
    "id": "C-EkAreK9aH3"
   },
   "source": [
    "### Make an App for Your Portfolio!\n",
    "\n",
    "<center>\n",
    "  <img src=https://griddb-pro.azureedge.net/en/wp-content/uploads/2021/08/streamlit-1160x650.png width=\"500\" align=\"center\" />\n",
    "</center>\n",
    "<br/>\n",
    "\n",
    "**Participants such as yourselves often want to use the weekly CoRise projects for their portfolios. To facilitate that, we've created this section. It might seem like a lot, but it's actually just following instructions and copy-pasting. Reach out on Slack if you get stuck!** \n",
    "\n",
    "You will make an app that visualizes the dataset as a DataFrame and as a geographic visualization like:\n",
    "\n",
    "<center>\n",
    "  <img src=https://i.ibb.co/gRhj6Jd/Screen-Shot-2022-11-10-at-3-58-17-PM.png width=\"500\" align=\"center\" />\n",
    "</center>\n",
    "<br/>\n",
    "\n",
    "Five out of the six columns in the dataset are used as so:\n",
    "- **Listing_id**: Ignored for visualization purposes\n",
    "- **Price**: Hovering over a blue/red dot displays in **bold** the price at the top\n",
    "- **Latitude**: Used to plot the blue/red dot on the map\n",
    "- **Longitude**: Used to plot the blue/red dot on the map\n",
    "- **Meters from favorite point**: Hovering over a blue/red dot displays the number of meters from the blue point\n",
    "- **Color**: Dependent on the category its assigned\n",
    "\n",
    "To visualize this, we will again use a library called [Streamlit](https://streamlit.io/). For now you are not expected to know how Streamlit works, but you are expected to be able to copy-paste and follow instructions if you want to share this project as part of your portfolio!\n",
    "\n",
    "We are going to use [Streamlit Share](https://share.streamlit.io/) to host your projects. It's a website that allows us to host our interactive projects for free online! Again, we don't expect you to understand how to use and/or modify the code we will show below. We do expect you to read the instructions and copy-paste our code to the Streamlit Share platform. Feel free to change it any way you like. Some great starting points are [here](https://python.plainenglish.io/how-to-build-web-app-using-streamlit-pandas-numpy-5e134f0cf552), [here](https://docs.streamlit.io/library/get-started/create-an-app), [here](https://streamlit.io/components), and [here](https://streamlit.io/gallery)!\n",
    "\n",
    "*Please make sure to change the currency symbol in the code below to the appropriate one if you've chosen something other than GBP/pound.*"
   ]
  },
  {
   "cell_type": "code",
   "execution_count": 35,
   "id": "RMq6a-RfIn4U",
   "metadata": {
    "colab": {
     "base_uri": "https://localhost:8080/"
    },
    "id": "RMq6a-RfIn4U",
    "outputId": "50fcd2f8-b75f-45a6-802e-e52810e3542b"
   },
   "outputs": [
    {
     "name": "stdout",
     "output_type": "stream",
     "text": [
      "Overwriting streamlit_app.py\n"
     ]
    }
   ],
   "source": [
    "%%writefile streamlit_app.py\n",
    "import pandas as pd\n",
    "import plotly.express as px\n",
    "import streamlit as st\n",
    "\n",
    "# Display title and text\n",
    "st.title(\"Week 1 - Data and visualization\")\n",
    "st.markdown(\"Here we can see the dataframe created during this weeks project.\")\n",
    "\n",
    "# Read dataframe\n",
    "dataframe = pd.read_csv(\n",
    "    \"WK1_Airbnb_Amsterdam_listings_proj_solution.csv\",\n",
    "    names=[\n",
    "        \"Airbnb Listing ID\",\n",
    "        \"Price\",\n",
    "        \"Latitude\",\n",
    "        \"Longitude\",\n",
    "        \"Meters from chosen location\",\n",
    "        \"Location\",\n",
    "    ],\n",
    ")\n",
    "\n",
    "# We have a limited budget, therefore we would like to exclude\n",
    "# listings with a price above 100 pounds per night\n",
    "dataframe = dataframe[dataframe[\"Price\"] <= 100]\n",
    "\n",
    "# Display as integer\n",
    "dataframe[\"Airbnb Listing ID\"] = dataframe[\"Airbnb Listing ID\"].astype(int)\n",
    "# Round of values\n",
    "dataframe[\"Price\"] = \"€ \" + dataframe[\"Price\"].round(2).astype(str)\n",
    "# Rename the number to a string\n",
    "dataframe[\"Location\"] = dataframe[\"Location\"].replace(\n",
    "    {1.0: \"To visit\", 0.0: \"Airbnb listing\"}\n",
    ")\n",
    "\n",
    "# Display dataframe and text\n",
    "st.dataframe(dataframe)\n",
    "st.markdown(\"Below is a map showing all the Airbnb listings with a red dot and the location we've chosen with a blue dot.\")\n",
    "\n",
    "# Create the plotly express figure\n",
    "fig = px.scatter_mapbox(\n",
    "    dataframe,\n",
    "    lat=\"Latitude\",\n",
    "    lon=\"Longitude\",\n",
    "    color=\"Location\",\n",
    "    color_discrete_sequence=[\"blue\", \"red\"],\n",
    "    zoom=11,\n",
    "    height=500,\n",
    "    width=800,\n",
    "    hover_name=\"Price\",\n",
    "    hover_data=[\"Meters from chosen location\", \"Location\"],\n",
    "    labels={\"color\": \"Locations\"},\n",
    ")\n",
    "fig.update_geos(center=dict(lat=dataframe.iloc[0][2], lon=dataframe.iloc[0][3]))\n",
    "fig.update_layout(mapbox_style=\"stamen-terrain\")\n",
    "\n",
    "# Show the figure\n",
    "st.plotly_chart(fig, use_container_width=True)"
   ]
  },
  {
   "cell_type": "markdown",
   "id": "OQ2XhKtchCr9",
   "metadata": {
    "id": "OQ2XhKtchCr9"
   },
   "source": [
    "The **%%writefile [FILE_NAME].[FILE_EXTENSION]** command let's us save the code written in the cells in your Google Colab instance. Having it saved like that enables us to download it as a file, as seen below:"
   ]
  },
  {
   "cell_type": "code",
   "execution_count": 36,
   "id": "B-qGmYOHNUQN",
   "metadata": {
    "colab": {
     "base_uri": "https://localhost:8080/"
    },
    "id": "B-qGmYOHNUQN",
    "outputId": "44d54055-eceb-40e2-fc4c-a1b1c926151b"
   },
   "outputs": [
    {
     "name": "stdout",
     "output_type": "stream",
     "text": [
      "Overwriting requirements.txt\n"
     ]
    }
   ],
   "source": [
    "%%writefile requirements.txt\n",
    "pandas\n",
    "streamlit\n",
    "plotly"
   ]
  }
 ],
 "metadata": {
  "colab": {
   "provenance": []
  },
  "kernelspec": {
   "display_name": "Python 3 (ipykernel)",
   "language": "python",
   "name": "python3"
  },
  "language_info": {
   "codemirror_mode": {
    "name": "ipython",
    "version": 3
   },
   "file_extension": ".py",
   "mimetype": "text/x-python",
   "name": "python",
   "nbconvert_exporter": "python",
   "pygments_lexer": "ipython3",
   "version": "3.9.16"
  }
 },
 "nbformat": 4,
 "nbformat_minor": 5
}
